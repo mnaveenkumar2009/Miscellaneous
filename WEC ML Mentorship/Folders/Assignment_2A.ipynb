{
 "cells": [
  {
   "cell_type": "code",
   "execution_count": 1,
   "metadata": {},
   "outputs": [
    {
     "data": {
      "text/plain": [
       "'Link to the numpy docs: https://docs.scipy.org/doc/numpy-1.13.0/reference/'"
      ]
     },
     "execution_count": 1,
     "metadata": {},
     "output_type": "execute_result"
    }
   ],
   "source": [
    "import numpy as np\n",
    "\"\"\"Link to the numpy docs: https://docs.scipy.org/doc/numpy-1.13.0/reference/\"\"\""
   ]
  },
  {
   "cell_type": "markdown",
   "metadata": {},
   "source": [
    "Lets solve a few basic numpy problems"
   ]
  },
  {
   "cell_type": "code",
   "execution_count": 3,
   "metadata": {},
   "outputs": [
    {
     "name": "stdout",
     "output_type": "stream",
     "text": [
      "[3 4]\n"
     ]
    }
   ],
   "source": [
    "def get_range(start, end, step):\n",
    "    \"\"\"Return an array of given range with specific step\"\"\"\n",
    "    return(np.arange(start,end,step))\n",
    "print(get_range(3,5,1))"
   ]
  },
  {
   "cell_type": "code",
   "execution_count": 4,
   "metadata": {},
   "outputs": [
    {
     "name": "stdout",
     "output_type": "stream",
     "text": [
      "(2, 4)\n",
      "[[3]\n",
      " [4]\n",
      " [5]\n",
      " [6]\n",
      " [1]\n",
      " [2]\n",
      " [3]\n",
      " [4]]\n"
     ]
    }
   ],
   "source": [
    "def new_shape(array, new_shape):\n",
    "    \"\"\"Return an array of given shape\"\"\"\n",
    "    #check if array can be reshaped to given dimensions\n",
    "    print array.shape\n",
    "    olds=1\n",
    "    news=1\n",
    "    for i in array.shape:\n",
    "        olds*=i\n",
    "    for i in new_shape:\n",
    "        news*=i\n",
    "    \n",
    "    if news!=olds:\n",
    "        return (array)\n",
    "\n",
    "    #define the function to reshape the array\n",
    "    array=array.reshape(new_shape)\n",
    "    \n",
    "    #return the array\n",
    "    return(array)\n",
    "\n",
    "a=np.array([[3,4,5,6],[1,2,3,4]])\n",
    "\n",
    "a=new_shape(a,[8,1])\n",
    "print a"
   ]
  },
  {
   "cell_type": "code",
   "execution_count": 5,
   "metadata": {},
   "outputs": [
    {
     "name": "stdout",
     "output_type": "stream",
     "text": [
      "[3 2 1]\n"
     ]
    }
   ],
   "source": [
    "def reverse_array(old_array):\n",
    "    \"\"\"Return the reversed array\"\"\"\n",
    "    return(np.flip(old_array,0))\n",
    "print(reverse_array([1,2,3]))"
   ]
  },
  {
   "cell_type": "code",
   "execution_count": 6,
   "metadata": {},
   "outputs": [
    {
     "name": "stdout",
     "output_type": "stream",
     "text": [
      "[1 2 3 1 2 1]\n"
     ]
    }
   ],
   "source": [
    "def stack_lists(lists):\n",
    "    \"\"\"Return an array containing lists stacked horizontally\"\"\"\n",
    "    return(np.hstack(lists))\n",
    "print(stack_lists([[1,2,3],[1,2],[1]]))"
   ]
  },
  {
   "cell_type": "code",
   "execution_count": 7,
   "metadata": {},
   "outputs": [
    {
     "name": "stdout",
     "output_type": "stream",
     "text": [
      "[ 0.00159265 -0.99999873 -0.00159265]\n"
     ]
    }
   ],
   "source": [
    "def get_trignometric_values(angle):\n",
    "    \"\"\"Return an array containing sine, cosine and tangent values of the given angle stacked horizontally\"\"\"\n",
    "    return (np.stack((np.sin(angle),np.cos(angle),np.tan(angle))))\n",
    "print(get_trignometric_values(3.14))"
   ]
  },
  {
   "cell_type": "code",
   "execution_count": 8,
   "metadata": {},
   "outputs": [
    {
     "name": "stdout",
     "output_type": "stream",
     "text": [
      "[[ 5.00000000e-01  5.00000000e-01 -1.00000000e+00]\n",
      " [-1.25000000e+00 -2.50000000e-01  2.00000000e+00]\n",
      " [ 1.00000000e+00 -1.66222462e-16 -1.00000000e+00]]\n"
     ]
    }
   ],
   "source": [
    "def invert_array(array):\n",
    "    \"\"\"Return the pseudo inverse of the given array; read more about pseudo inverse at: \n",
    "    https://en.wikipedia.org/wiki/Moore%E2%80%93Penrose_inverse\"\"\"\n",
    "    array = np.linalg.pinv(array)\n",
    "    return(array)\n",
    "print( invert_array([[1, 2 ,3],[3, 2, 1],[1, 2, 2]]) )"
   ]
  },
  {
   "cell_type": "code",
   "execution_count": 9,
   "metadata": {},
   "outputs": [
    {
     "name": "stdout",
     "output_type": "stream",
     "text": [
      "[1 2 3 4]\n"
     ]
    }
   ],
   "source": [
    "def flatten_array(array):\n",
    "    \"\"\"Return the flattened array\"\"\"\n",
    "    return(np.ndarray.flatten(array))\n",
    "a=[[1,2],[3,4]]\n",
    "print(flatten_array(np.array(a)))"
   ]
  },
  {
   "cell_type": "code",
   "execution_count": 12,
   "metadata": {},
   "outputs": [
    {
     "name": "stdout",
     "output_type": "stream",
     "text": [
      "0.0\n",
      "[1.54287456 2.47849598 3.04795726 1.05650294]\n",
      "0.7781974106169678\n",
      "0.7781974106169678\n",
      "2.0314576839724157\n"
     ]
    }
   ],
   "source": [
    "def add_noise(array, mean, std):\n",
    "    \"\"\"Add gaussian noise with given mean and standard deviation; read more about the normal distribution at:\n",
    "    https://en.wikipedia.org/wiki/Normal_distribution\"\"\"\n",
    "    return(np.random.normal(mean, std, array.size))\n",
    "# a=np.array([1,2,3,4,5,6,7,8])\n",
    "a=np.array([0, 0, 0, 0])\n",
    "print (np.std(a))\n",
    "anew=add_noise(a,1,1)\n",
    "print (anew)\n",
    "print(np.std(anew))\n",
    "print(np.std(a+anew))\n",
    "print(np.mean(anew))"
   ]
  },
  {
   "cell_type": "code",
   "execution_count": 13,
   "metadata": {},
   "outputs": [
    {
     "data": {
      "text/plain": [
       "array([[[1, 2, 3],\n",
       "        [1, 2, 3]]])"
      ]
     },
     "execution_count": 13,
     "metadata": {},
     "output_type": "execute_result"
    }
   ],
   "source": [
    "def expand_array(array, axis):\n",
    "    \"\"\"Return an array expanded along the column\"\"\"\n",
    "    a = np.expand_dims(array,axis)\n",
    "    return(a)\n",
    "expand_array([[1,2,3],[1,2,3]],0)\n",
    "# expand_array([1,2,3],1)"
   ]
  },
  {
   "cell_type": "code",
   "execution_count": 24,
   "metadata": {},
   "outputs": [
    {
     "data": {
      "text/plain": [
       "array([0.5       , 0.73105858, 0.88079708, 0.95257413])"
      ]
     },
     "execution_count": 24,
     "metadata": {},
     "output_type": "execute_result"
    }
   ],
   "source": [
    "import math\n",
    "def sigmoid_fn(array):\n",
    "    \"\"\"Return an array with the sigmoid values\"\"\"\n",
    "    return(1/(1+np.exp(-1*(array))))\n",
    "sigmoid_fn(np.array([0,1,2,3]))"
   ]
  },
  {
   "cell_type": "code",
   "execution_count": 25,
   "metadata": {},
   "outputs": [
    {
     "data": {
      "text/plain": [
       "array([5.        , 3.93628343, 2.79751332, 1.37023699])"
      ]
     },
     "execution_count": 25,
     "metadata": {},
     "output_type": "execute_result"
    }
   ],
   "source": [
    "import scipy.stats\n",
    "def get_means(array):\n",
    "    \"\"\"Return arithmetic mean, geometric mean, harmonic mean and log means in a column array\"\"\"\n",
    "    #define function for arithmetic mean\n",
    "    a = np.mean(array)\n",
    "    #define function for geometric mean\n",
    "    b = scipy.stats.gmean(array)\n",
    "    #define function for harmonic mean\n",
    "    c = (scipy.stats.hmean(array))\n",
    "    #define function for log means\n",
    "    d = (np.log(array).mean())\n",
    "    \n",
    "    return(np.hstack([a,b,c,d]))\n",
    "arr = np.arange(1,10,2)\n",
    "get_means(arr)"
   ]
  },
  {
   "cell_type": "code",
   "execution_count": 24,
   "metadata": {},
   "outputs": [
    {
     "name": "stdout",
     "output_type": "stream",
     "text": [
      "2\n",
      "1\n"
     ]
    }
   ],
   "source": [
    "def return_count(array, threshold):\n",
    "    \"\"\"Return the number of elements above the threshold in an array\"\"\"\n",
    "    return((np.where(array > threshold))[0].shape[0])\n",
    "print(return_count(np.array([1,2,3]),1))\n",
    "print(return_count(np.array([1,2,3]),2))"
   ]
  },
  {
   "cell_type": "code",
   "execution_count": 35,
   "metadata": {},
   "outputs": [
    {
     "data": {
      "text/plain": [
       "6"
      ]
     },
     "execution_count": 35,
     "metadata": {},
     "output_type": "execute_result"
    }
   ],
   "source": [
    "def column_sum(array, column_no):\n",
    "    \"\"\"Return the sum of all the elements in a column of the array\"\"\"\n",
    "    #check if column exists in array, else return(np.nan)\n",
    "    if column_no>=array.shape[1]:\n",
    "        return np.nan\n",
    "    return (np.sum(array, axis=0))[column_no]\n",
    "column_sum(np.array([[1,2],[2,3],[3,4]]),0)"
   ]
  },
  {
   "cell_type": "code",
   "execution_count": 33,
   "metadata": {},
   "outputs": [
    {
     "name": "stdout",
     "output_type": "stream",
     "text": [
      "3\n",
      "nan\n"
     ]
    }
   ],
   "source": [
    "def row_sum(array, row_no):\n",
    "    \"\"\"Return the sum of all the elements in a row of the array\"\"\"\n",
    "    #check if row exists in array, else return(np.nan)\n",
    "    if row_no>=array.shape[0]:\n",
    "        return np.nan\n",
    "    #define function to return the sum of elements in the given row\n",
    "    \n",
    "    #return the value\n",
    "    return(np.sum(array[row_no]))\n",
    "\n",
    "print(row_sum(np.array([[1,3],[2,1]]),1))\n",
    "print(row_sum(np.array([[1,3],[2,1]]),3))"
   ]
  },
  {
   "cell_type": "code",
   "execution_count": 15,
   "metadata": {},
   "outputs": [
    {
     "name": "stdout",
     "output_type": "stream",
     "text": [
      "True\n",
      "False\n"
     ]
    }
   ],
   "source": [
    "def check_diag(array):\n",
    "    \"\"\"Return True if the matrix is diagonal\"\"\"\n",
    "    return((np.count_nonzero(array - np.diag(np.diag(array))))==0)\n",
    "print(check_diag(np.array([[1,0],[0,1]])))\n",
    "print(check_diag(np.array([[1,1],[0,1]])))"
   ]
  },
  {
   "cell_type": "code",
   "execution_count": null,
   "metadata": {
    "collapsed": true
   },
   "outputs": [],
   "source": []
  }
 ],
 "metadata": {
  "kernelspec": {
   "display_name": "Python 2",
   "language": "python",
   "name": "python2"
  },
  "language_info": {
   "codemirror_mode": {
    "name": "ipython",
    "version": 2
   },
   "file_extension": ".py",
   "mimetype": "text/x-python",
   "name": "python",
   "nbconvert_exporter": "python",
   "pygments_lexer": "ipython2",
   "version": "2.7.15rc1"
  }
 },
 "nbformat": 4,
 "nbformat_minor": 2
}
